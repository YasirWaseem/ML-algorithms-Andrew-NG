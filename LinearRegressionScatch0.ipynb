{
 "cells": [
  {
   "cell_type": "code",
   "execution_count": 1,
   "id": "005a3099-7e96-4330-baf7-e7b48763f304",
   "metadata": {},
   "outputs": [
    {
     "ename": "ModuleNotFoundError",
     "evalue": "No module named 'matplotlib'",
     "output_type": "error",
     "traceback": [
      "\u001b[1;31m---------------------------------------------------------------------------\u001b[0m",
      "\u001b[1;31mModuleNotFoundError\u001b[0m                       Traceback (most recent call last)",
      "Cell \u001b[1;32mIn[1], line 3\u001b[0m\n\u001b[0;32m      1\u001b[0m \u001b[38;5;28;01mimport\u001b[39;00m \u001b[38;5;21;01mpandas\u001b[39;00m \u001b[38;5;28;01mas\u001b[39;00m \u001b[38;5;21;01mpd\u001b[39;00m\n\u001b[0;32m      2\u001b[0m \u001b[38;5;28;01mimport\u001b[39;00m \u001b[38;5;21;01mnumpy\u001b[39;00m \u001b[38;5;28;01mas\u001b[39;00m \u001b[38;5;21;01mnp\u001b[39;00m\n\u001b[1;32m----> 3\u001b[0m \u001b[38;5;28;01mimport\u001b[39;00m \u001b[38;5;21;01mmatplotlib\u001b[39;00m\u001b[38;5;21;01m.\u001b[39;00m\u001b[38;5;21;01mpyplot\u001b[39;00m \u001b[38;5;28;01mas\u001b[39;00m \u001b[38;5;21;01mplt\u001b[39;00m\n",
      "\u001b[1;31mModuleNotFoundError\u001b[0m: No module named 'matplotlib'"
     ]
    }
   ],
   "source": [
    "import pandas as pd\n",
    "import numpy as np\n",
    "import matplotlib.pyplot as plt"
   ]
  },
  {
   "cell_type": "markdown",
   "id": "79551c73-5b9a-481d-97f7-e79c591b46a9",
   "metadata": {},
   "source": [
    "data = pd.read_csv(\"score.csv\")\n",
    "x_train = data[\"Hours\"].values[:20]\n",
    "x_test = data[\"Hours\"].values[20:]\n",
    "y_train = data[\"Scores\"].values[:20]\n",
    "y_test = data[\"Scores\"].values[20:]"
   ]
  },
  {
   "cell_type": "code",
   "execution_count": 14,
   "id": "1e3c948e-2067-4a57-b21b-e72b501a49c0",
   "metadata": {},
   "outputs": [],
   "source": [
    "w = 0\n",
    "b = 0\n",
    "learning_rate = 0.01\n",
    "i = 1000"
   ]
  },
  {
   "cell_type": "code",
   "execution_count": 4,
   "id": "11ffb7fb-d63f-4f93-87a2-695057bbdf51",
   "metadata": {},
   "outputs": [],
   "source": [
    "def linear_regression(x_train, w, b):\n",
    "    return w * x_train + b"
   ]
  },
  {
   "cell_type": "code",
   "execution_count": 5,
   "id": "1fd5d814-7594-4c7d-9073-59ba9597566c",
   "metadata": {},
   "outputs": [],
   "source": [
    "def compute_cost(x_train, y_train, w, b):\n",
    "    m = len(y_train)\n",
    "    predictions = linear_regression(x_train, w, b)\n",
    "    cost = (1 / (2 * m)) * np.sum((predictions - y_train) ** 2)\n",
    "    return cost\n",
    "    "
   ]
  },
  {
   "cell_type": "code",
   "execution_count": 15,
   "id": "54609a0d-9ab2-4cb6-bc57-a67439a99508",
   "metadata": {},
   "outputs": [],
   "source": [
    "def gradient_decent(x_train, y_train, w, b, learning_rate, i):\n",
    "    m = len(y_train)\n",
    "    for j in range(i):\n",
    "        predictions = linear_regression(x_train, w, b)\n",
    "        error = predictions - y_train\n",
    "        w = w - (learning_rate * ( 1 / m) * np.sum(error * x_train))\n",
    "        b = b - (learning_rate * ( 1 / m) * np.sum(error))\n",
    "    return w, b\n",
    "    "
   ]
  },
  {
   "cell_type": "code",
   "execution_count": 16,
   "id": "8064b3d5-7519-40b6-866a-f0cfcf399845",
   "metadata": {},
   "outputs": [],
   "source": [
    "w, b = gradient_decent(x_train, y_train, w, b, learning_rate, i)"
   ]
  },
  {
   "cell_type": "code",
   "execution_count": 17,
   "id": "a83e8f3c-1dc8-4f2c-b600-cec0704845c7",
   "metadata": {},
   "outputs": [
    {
     "name": "stdout",
     "output_type": "stream",
     "text": [
      "Optimized weight: 9.54930773921097\n",
      "Optimized bias: 2.849649970703918\n"
     ]
    }
   ],
   "source": [
    "print(f\"Optimized weight: {w}\")\n",
    "print(f\"Optimized bias: {b}\")"
   ]
  },
  {
   "cell_type": "code",
   "execution_count": 18,
   "id": "1fa03e4c-3db3-4000-8ba3-df17ee8f3988",
   "metadata": {},
   "outputs": [
    {
     "name": "stdout",
     "output_type": "stream",
     "text": [
      "predictions: [28.63278087 48.68632712 39.13701938 68.73987337 77.33425034]\n"
     ]
    }
   ],
   "source": [
    "predictions = linear_regression(x_test, w, b)\n",
    "print(f\"predictions: {predictions}\")"
   ]
  },
  {
   "cell_type": "code",
   "execution_count": null,
   "id": "32ce015f-38b9-412b-a242-6019a2faec7c",
   "metadata": {},
   "outputs": [],
   "source": []
  }
 ],
 "metadata": {
  "kernelspec": {
   "display_name": "Python 3 (ipykernel)",
   "language": "python",
   "name": "python3"
  },
  "language_info": {
   "codemirror_mode": {
    "name": "ipython",
    "version": 3
   },
   "file_extension": ".py",
   "mimetype": "text/x-python",
   "name": "python",
   "nbconvert_exporter": "python",
   "pygments_lexer": "ipython3",
   "version": "3.11.4"
  }
 },
 "nbformat": 4,
 "nbformat_minor": 5
}
